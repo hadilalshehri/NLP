{
  "cells": [
    {
      "cell_type": "markdown",
      "metadata": {
        "id": "view-in-github",
        "colab_type": "text"
      },
      "source": [
        "<a href=\"https://colab.research.google.com/github/hadilalshehri/NLP/blob/main/Ngram.ipynb\" target=\"_parent\"><img src=\"https://colab.research.google.com/assets/colab-badge.svg\" alt=\"Open In Colab\"/></a>"
      ]
    },
    {
      "cell_type": "markdown",
      "metadata": {
        "id": "TdrX_kmgHGDZ"
      },
      "source": [
        "NGRAM"
      ]
    },
    {
      "cell_type": "code",
      "execution_count": 1,
      "metadata": {
        "id": "arWC2Sm6HGDd"
      },
      "outputs": [],
      "source": [
        "from nltk import ngrams"
      ]
    },
    {
      "cell_type": "markdown",
      "metadata": {
        "id": "C9oVr9dxHGDf"
      },
      "source": [
        "Reading Corpus File\n",
        "Link --> https://www.kaggle.com/datasets/jannesklaas/scifi-stories-text-corpus "
      ]
    },
    {
      "cell_type": "code",
      "execution_count": 7,
      "metadata": {
        "id": "4lPDXN3oHGDf"
      },
      "outputs": [],
      "source": [
        "with open('/bin/internet_archive_scifi_v3.txt') as f:\n",
        "    lines = f.readlines()\n",
        "Corpus = str(lines)"
      ]
    },
    {
      "cell_type": "code",
      "execution_count": 9,
      "metadata": {
        "colab": {
          "base_uri": "https://localhost:8080/"
        },
        "id": "rsuzI7p1HGDg",
        "outputId": "6b9b09d3-c91b-4b6b-8a57-3b48df529090"
      },
      "outputs": [
        {
          "output_type": "stream",
          "name": "stdout",
          "text": [
            "(\"['MARCH\",)\n",
            "('#',)\n",
            "('All',)\n",
            "('Stories',)\n",
            "('New',)\n"
          ]
        }
      ],
      "source": [
        "Unigrams = ngrams(Corpus.split(), 1)\n",
        "first_Unigrams = list(Unigrams)\n",
        "for grams in first_Unigrams[:5]:\n",
        "  print(grams)"
      ]
    },
    {
      "cell_type": "code",
      "execution_count": 13,
      "metadata": {
        "colab": {
          "base_uri": "https://localhost:8080/"
        },
        "id": "ykqxtkoYHGDg",
        "outputId": "d6e896c4-3b7b-435d-8c1d-51f881bbe20d"
      },
      "outputs": [
        {
          "output_type": "stream",
          "name": "stdout",
          "text": [
            "(\"['MARCH\", '#')\n",
            "('#', 'All')\n",
            "('All', 'Stories')\n",
            "('Stories', 'New')\n",
            "('New', 'and')\n"
          ]
        }
      ],
      "source": [
        "Bigrams = ngrams(Corpus.split(), 2)\n",
        "first_Bigrams = list(Bigrams)\n",
        "for grams in first_Bigrams[:5]:\n",
        "  print(grams)"
      ]
    },
    {
      "cell_type": "code",
      "execution_count": 14,
      "metadata": {
        "colab": {
          "base_uri": "https://localhost:8080/"
        },
        "id": "6ihwYvxZHGDi",
        "outputId": "c11c1a15-fb66-42bb-c239-9e66ec44b1ca"
      },
      "outputs": [
        {
          "output_type": "stream",
          "name": "stdout",
          "text": [
            "(\"['MARCH\", '#', 'All')\n",
            "('#', 'All', 'Stories')\n",
            "('All', 'Stories', 'New')\n",
            "('Stories', 'New', 'and')\n",
            "('New', 'and', 'Complete')\n"
          ]
        }
      ],
      "source": [
        "Trigrams = ngrams(Corpus.split(), 3)\n",
        "first_Trigrams= list(Trigrams)\n",
        "for grams in first_Trigrams[:5]:\n",
        "  print(grams) "
      ]
    }
  ],
  "metadata": {
    "kernelspec": {
      "display_name": "Python 3",
      "language": "python",
      "name": "python3"
    },
    "language_info": {
      "codemirror_mode": {
        "name": "ipython",
        "version": 3
      },
      "file_extension": ".py",
      "mimetype": "text/x-python",
      "name": "python",
      "nbconvert_exporter": "python",
      "pygments_lexer": "ipython3",
      "version": "3.11.0"
    },
    "orig_nbformat": 4,
    "vscode": {
      "interpreter": {
        "hash": "a41862677209d0f6c6f72b3b118395bce78e978d9d3b978a0de6483880a01472"
      }
    },
    "colab": {
      "provenance": [],
      "include_colab_link": true
    }
  },
  "nbformat": 4,
  "nbformat_minor": 0
}